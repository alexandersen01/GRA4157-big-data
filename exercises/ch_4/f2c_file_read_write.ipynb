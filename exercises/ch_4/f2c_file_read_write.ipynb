{
 "cells": [
  {
   "cell_type": "code",
   "execution_count": 19,
   "id": "fc1b6fa3",
   "metadata": {},
   "outputs": [],
   "source": [
    "from scipy.constants import convert_temperature"
   ]
  },
  {
   "cell_type": "code",
   "execution_count": 20,
   "id": "fe3a69b9",
   "metadata": {},
   "outputs": [],
   "source": [
    "with open('Fdeg.dat', 'r') as f:\n",
    "    res = f.readlines()"
   ]
  },
  {
   "cell_type": "code",
   "execution_count": 21,
   "id": "daf6f03e",
   "metadata": {},
   "outputs": [
    {
     "data": {
      "text/plain": [
       "['Temperature data\\n',\n",
       " '----------------\\n',\n",
       " 'Fahrenheit degrees: 67.2\\n',\n",
       " 'Fahrenheit degrees: 66.0\\n',\n",
       " 'Fahrenheit degrees: 78.9\\n',\n",
       " 'Fahrenheit degrees: 102.1\\n',\n",
       " 'Fahrenheit degrees: 32.0\\n',\n",
       " 'Fahrenheit degrees: 87.8']"
      ]
     },
     "execution_count": 21,
     "metadata": {},
     "output_type": "execute_result"
    }
   ],
   "source": [
    "res"
   ]
  },
  {
   "cell_type": "code",
   "execution_count": 22,
   "id": "26a14b19",
   "metadata": {},
   "outputs": [],
   "source": [
    "haha = []\n",
    "\n",
    "for i in range(len(res)): \n",
    "    if 'Fahr' in res[i]:\n",
    "        line = res[i].strip()\n",
    "        fahr = float(line.split(':')[1].strip())\n",
    "        cel = float(convert_temperature(fahr, 'Fahrenheit', 'Celsius'))\n",
    "        \n",
    "\n",
    "        res[i] = line + f', Celcius degrees: {cel:.2f}\\n'"
   ]
  },
  {
   "cell_type": "code",
   "execution_count": 25,
   "id": "1cc8eb94",
   "metadata": {},
   "outputs": [],
   "source": [
    "with open('temperature_data.dat', 'w') as f:\n",
    "    f.writelines(res)\n"
   ]
  },
  {
   "cell_type": "code",
   "execution_count": null,
   "id": "bc4c00c1",
   "metadata": {},
   "outputs": [],
   "source": []
  }
 ],
 "metadata": {
  "kernelspec": {
   "display_name": ".venv",
   "language": "python",
   "name": "python3"
  },
  "language_info": {
   "codemirror_mode": {
    "name": "ipython",
    "version": 3
   },
   "file_extension": ".py",
   "mimetype": "text/x-python",
   "name": "python",
   "nbconvert_exporter": "python",
   "pygments_lexer": "ipython3",
   "version": "3.13.3"
  }
 },
 "nbformat": 4,
 "nbformat_minor": 5
}
