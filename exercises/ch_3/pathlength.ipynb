{
 "cells": [
  {
   "cell_type": "code",
   "execution_count": 11,
   "id": "5ef206ed",
   "metadata": {},
   "outputs": [],
   "source": [
    "from typing import List\n",
    "\n",
    "def pathlength(x: List[float], y: List[float]):\n",
    "    res = 0\n",
    "    for i, _ in enumerate(x):\n",
    "        x_i = x[i]\n",
    "        y_i = y[i]\n",
    "\n",
    "        x_last = x[i-1] if i != 0 else 0\n",
    "        y_last = y[i-1] if i != 0 else 0\n",
    "\n",
    "        res += ((x_i - x_last)**2 + (y_i - y_last)**2)**0.5\n",
    "    return res"
   ]
  },
  {
   "cell_type": "code",
   "execution_count": 12,
   "id": "78d638ea",
   "metadata": {},
   "outputs": [
    {
     "data": {
      "text/plain": [
       "4.242640687119286"
      ]
     },
     "execution_count": 12,
     "metadata": {},
     "output_type": "execute_result"
    }
   ],
   "source": [
    "pathlength([1, 2, 3], [1, 2, 3])"
   ]
  },
  {
   "cell_type": "code",
   "execution_count": null,
   "id": "1afb0859",
   "metadata": {},
   "outputs": [],
   "source": []
  }
 ],
 "metadata": {
  "kernelspec": {
   "display_name": ".venv",
   "language": "python",
   "name": "python3"
  },
  "language_info": {
   "codemirror_mode": {
    "name": "ipython",
    "version": 3
   },
   "file_extension": ".py",
   "mimetype": "text/x-python",
   "name": "python",
   "nbconvert_exporter": "python",
   "pygments_lexer": "ipython3",
   "version": "3.13.3"
  }
 },
 "nbformat": 4,
 "nbformat_minor": 5
}
