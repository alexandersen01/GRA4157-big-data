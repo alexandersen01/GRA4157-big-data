{
 "cells": [
  {
   "cell_type": "code",
   "execution_count": 1,
   "id": "a874f26a",
   "metadata": {},
   "outputs": [],
   "source": [
    "def double(x):\n",
    "    return x*2\n",
    "\n",
    "def test_double():\n",
    "    assert double(2) == 4\n",
    "    assert abs(double(0.1) - 0.2) < 1E-15\n",
    "    assert double([1, 2]) == [1, 2, 1, 2]\n",
    "    assert double((1, 2)) == (1, 2, 1, 2)\n",
    "    assert double(3+4j) == 6+8j\n",
    "    assert double('hello') == 'hellohello'"
   ]
  },
  {
   "cell_type": "code",
   "execution_count": 4,
   "id": "14dd4644",
   "metadata": {},
   "outputs": [
    {
     "name": "stdout",
     "output_type": "stream",
     "text": [
      "testing double...\n",
      "double ok\n"
     ]
    }
   ],
   "source": [
    "print('testing double...')\n",
    "\n",
    "test_double()\n",
    "print('double ok')"
   ]
  },
  {
   "cell_type": "code",
   "execution_count": null,
   "id": "1b78ad50",
   "metadata": {},
   "outputs": [],
   "source": []
  }
 ],
 "metadata": {
  "kernelspec": {
   "display_name": ".venv",
   "language": "python",
   "name": "python3"
  },
  "language_info": {
   "codemirror_mode": {
    "name": "ipython",
    "version": 3
   },
   "file_extension": ".py",
   "mimetype": "text/x-python",
   "name": "python",
   "nbconvert_exporter": "python",
   "pygments_lexer": "ipython3",
   "version": "3.13.3"
  }
 },
 "nbformat": 4,
 "nbformat_minor": 5
}
